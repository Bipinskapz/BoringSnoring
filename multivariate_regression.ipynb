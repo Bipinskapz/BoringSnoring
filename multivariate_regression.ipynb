{
 "cells": [
  {
   "cell_type": "code",
   "execution_count": 2,
   "metadata": {},
   "outputs": [],
   "source": [
    "import numpy as np\n",
    "from numpy.linalg import lstsq           #calculate least squares\n",
    "from sklearn.linear_model import LinearRegression\n",
    "import matplotlib.pyplot as plt"
   ]
  },
  {
   "cell_type": "code",
   "execution_count": 11,
   "metadata": {},
   "outputs": [],
   "source": [
    "x1 = np.array([6,8,10,14,18]).reshape(5,1)              #first column or first feature\n",
    "x2 = np.array([2,1,0,2,0]).reshape(5,1)                 #second feature\n",
    "x0 = np.array([1 for i in range(5)]).reshape(5,1)       #value of x0 is always equal to 1\n",
    "\n",
    "y = np.array([7,9,13,17.5,18]).reshape(5,1)             #target value "
   ]
  },
  {
   "cell_type": "code",
   "execution_count": 5,
   "metadata": {},
   "outputs": [
    {
     "name": "stdout",
     "output_type": "stream",
     "text": [
      "[[ 1  6  2]\n",
      " [ 1  8  1]\n",
      " [ 1 10  0]\n",
      " [ 1 14  2]\n",
      " [ 1 18  0]]\n"
     ]
    }
   ],
   "source": [
    "x = np.concatenate([x0,x1,x2],axis=1)                   #join all the feature set to a single dataset along first axis(columns)\n",
    "print(x)"
   ]
  },
  {
   "cell_type": "code",
   "execution_count": 26,
   "metadata": {},
   "outputs": [
    {
     "name": "stdout",
     "output_type": "stream",
     "text": [
      "[[1.1875    ]\n",
      " [1.01041667]\n",
      " [0.39583333]]\n"
     ]
    }
   ],
   "source": [
    "from numpy import transpose,dot          \n",
    "from numpy.linalg import inv            #inverse function\n",
    "\n",
    "eqn_first_half = inv(dot(transpose(x),x))          #(inverse(transpose(x).x))    \n",
    "eqn_second_half = dot(transpose(x),y)              #(transpose(x).y)\n",
    "THETA_LS = dot(eqn_first_half,eqn_second_half)     #combining both halves,theta = inverse(transpose(x).x).(transpose(x).y)\n",
    "\n",
    "print(THETA_LS)                                    #(3,1) matrix because we've three features x0,x1,x2"
   ]
  },
  {
   "cell_type": "code",
   "execution_count": 33,
   "metadata": {},
   "outputs": [
    {
     "name": "stdout",
     "output_type": "stream",
     "text": [
      "[[1.1875    ]\n",
      " [1.01041667]\n",
      " [0.39583333]]\n"
     ]
    },
    {
     "name": "stderr",
     "output_type": "stream",
     "text": [
      "/home/abhigith/anaconda3/lib/python3.7/site-packages/ipykernel_launcher.py:4: FutureWarning: `rcond` parameter will change to the default of machine precision times ``max(M, N)`` where M and N are the input matrix dimensions.\n",
      "To use the future default and silence this warning we advise to pass `rcond=None`, to keep using the old, explicitly pass `rcond=-1`.\n",
      "  after removing the cwd from sys.path.\n"
     ]
    }
   ],
   "source": [
    "#Alternative method to calculate theta_ls\n",
    "from numpy.linalg import lstsq            #least squares\n",
    "\n",
    "theta_ls = lstsq(x,y)[0]\n",
    "print(theta_ls)"
   ]
  },
  {
   "cell_type": "code",
   "execution_count": 34,
   "metadata": {},
   "outputs": [
    {
     "data": {
      "text/plain": [
       "LinearRegression(copy_X=True, fit_intercept=True, n_jobs=None,\n",
       "         normalize=False)"
      ]
     },
     "execution_count": 34,
     "metadata": {},
     "output_type": "execute_result"
    }
   ],
   "source": [
    "#train the model\n",
    "model = LinearRegression()\n",
    "model.fit(x,y)              #find the perfect fit line"
   ]
  },
  {
   "cell_type": "code",
   "execution_count": 41,
   "metadata": {},
   "outputs": [
    {
     "name": "stdout",
     "output_type": "stream",
     "text": [
      "[1.1875] [[0.         1.01041667 0.39583333]]\n"
     ]
    }
   ],
   "source": [
    "print(model.intercept_,model.coef_)        #print the parameters calculated by our model"
   ]
  },
  {
   "cell_type": "code",
   "execution_count": 43,
   "metadata": {},
   "outputs": [],
   "source": [
    "#test the model\n",
    "xx1 = np.array([8,9,11,16,12]).reshape(5,1)\n",
    "xx2 = np.array([2,0,2,2,0]).reshape(5,1)\n",
    "\n",
    "y_test = np.array([11,8.5,15,18,11]).reshape(5,1)"
   ]
  },
  {
   "cell_type": "code",
   "execution_count": 50,
   "metadata": {},
   "outputs": [
    {
     "name": "stdout",
     "output_type": "stream",
     "text": [
      "[[10.0625    ]\n",
      " [10.28125   ]\n",
      " [13.09375   ]\n",
      " [18.14583333]\n",
      " [13.3125    ]]\n"
     ]
    }
   ],
   "source": [
    "x_test = np.concatenate([x0,xx1,xx2],axis=1)\n",
    "predict = model.predict(x_test)\n",
    "\n",
    "print(predict)"
   ]
  },
  {
   "cell_type": "code",
   "execution_count": 48,
   "metadata": {},
   "outputs": [
    {
     "data": {
      "text/plain": [
       "0.7701677731318466"
      ]
     },
     "execution_count": 48,
     "metadata": {},
     "output_type": "execute_result"
    }
   ],
   "source": [
    "model.score(x_test,y_test)"
   ]
  }
 ],
 "metadata": {
  "kernelspec": {
   "display_name": "Python 3",
   "language": "python",
   "name": "python3"
  },
  "language_info": {
   "codemirror_mode": {
    "name": "ipython",
    "version": 3
   },
   "file_extension": ".py",
   "mimetype": "text/x-python",
   "name": "python",
   "nbconvert_exporter": "python",
   "pygments_lexer": "ipython3",
   "version": "3.7.1"
  }
 },
 "nbformat": 4,
 "nbformat_minor": 2
}
