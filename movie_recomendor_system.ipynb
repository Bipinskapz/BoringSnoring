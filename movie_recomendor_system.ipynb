{
 "cells": [
  {
   "cell_type": "code",
   "execution_count": 5,
   "metadata": {},
   "outputs": [],
   "source": [
    "import numpy as np\n",
    "from lightfm.datasets import fetch_movielens       #movielens dataset \n",
    "from lightfm import LightFM                        #recomendor system model"
   ]
  },
  {
   "cell_type": "code",
   "execution_count": 6,
   "metadata": {},
   "outputs": [],
   "source": [
    "data = fetch_movielens(min_rating=3.0)             #dataset with minimum rating of 3"
   ]
  },
  {
   "cell_type": "code",
   "execution_count": 7,
   "metadata": {},
   "outputs": [],
   "source": [
    "x_train = data['train']                  #training dataset\n",
    "model = LightFM(loss='warp')             #call the model"
   ]
  },
  {
   "cell_type": "code",
   "execution_count": 30,
   "metadata": {},
   "outputs": [],
   "source": [
    "model.fit(x_train,epochs=30,num_threads=2)                           #train the model\n",
    "\n",
    "def predict(user_ids,model=model,data=data):                         #function for recomendation\n",
    "    n_users,n_items = x_train.shape                                  #n_user = 943, n_items = 1682\n",
    "    for user_id in user_ids:                                         #iterate over the given user ids\n",
    "        score = model.predict(user_id,np.arange(n_items))            #predict score for each movie for given user id\n",
    "        top_items = data['item_labels'][np.argsort(score)]           #arange the movies based on the score predicted\n",
    "        \n",
    "        print('User ID :',user_id)\n",
    "        print('Top 3 movies : ',top_items[:3])                       #print first 3 recomended movies\n",
    "        print()"
   ]
  },
  {
   "cell_type": "code",
   "execution_count": 32,
   "metadata": {},
   "outputs": [
    {
     "name": "stdout",
     "output_type": "stream",
     "text": [
      "User ID : 5\n",
      "Top 3 movies :  ['Wishmaster (1997)' 'Heavyweights (1994)' 'Congo (1995)']\n",
      "\n",
      "User ID : 2\n",
      "Top 3 movies :  ['Parent Trap, The (1961)' 'Pinocchio (1940)' 'Quiet Man, The (1952)']\n",
      "\n",
      "User ID : 9\n",
      "Top 3 movies :  ['High School High (1996)' 'Wishmaster (1997)' 'Big Bully (1996)']\n",
      "\n"
     ]
    }
   ],
   "source": [
    "predict([5,2,9])"
   ]
  },
  {
   "cell_type": "code",
   "execution_count": null,
   "metadata": {},
   "outputs": [],
   "source": []
  }
 ],
 "metadata": {
  "kernelspec": {
   "display_name": "Python 3",
   "language": "python",
   "name": "python3"
  },
  "language_info": {
   "codemirror_mode": {
    "name": "ipython",
    "version": 3
   },
   "file_extension": ".py",
   "mimetype": "text/x-python",
   "name": "python",
   "nbconvert_exporter": "python",
   "pygments_lexer": "ipython3",
   "version": "3.7.1"
  }
 },
 "nbformat": 4,
 "nbformat_minor": 2
}
